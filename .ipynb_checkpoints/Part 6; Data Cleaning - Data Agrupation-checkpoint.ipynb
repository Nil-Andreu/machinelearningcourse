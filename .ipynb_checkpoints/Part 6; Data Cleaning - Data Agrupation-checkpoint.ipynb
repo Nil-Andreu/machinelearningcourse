{
 "cells": [
  {
   "cell_type": "code",
   "execution_count": 2,
   "id": "appropriate-fourth",
   "metadata": {},
   "outputs": [],
   "source": [
    "#We can agrupate the data to be able to analyse it easier\n",
    "import numpy as np\n",
    "import pandas as pd\n",
    "\n",
    "n=500\n",
    "#Where is going to be the size of the database\n",
    "\n",
    "gender = [\"Male\", \"Female\"]\n",
    "income_status = [\"Poor\", \"Middle\", \"Rich\"]\n",
    "\n",
    "gender_data = []\n",
    "income_status_data = []\n",
    "\n",
    "for i in range(0,n):\n",
    "    gender_data.append(np.random.choice(gender))\n",
    "    income_status.append(np.random.choice(income_status))\n",
    "#Creating randomly the gender and income_status variables\n",
    "\n",
    "height = 160 + 30 * np.random.randn(n)\n",
    "weigth = 65 + 25 * np.random.randn(n)\n",
    "age = 30 + 12 * np.random.randn(n)\n",
    "incomme = 18000 + 3500 * np.random.randn(n)"
   ]
  },
  {
   "cell_type": "code",
   "execution_count": null,
   "id": "color-witch",
   "metadata": {},
   "outputs": [],
   "source": [
    "#And now we can create the dataframe\n",
    "data = pd.DataFrame(\n",
    "    {\n",
    "        \"Gender\":gender,\n",
    "        \"Income Status\":\n",
    "    }\n",
    ")"
   ]
  }
 ],
 "metadata": {
  "kernelspec": {
   "display_name": "Python 3",
   "language": "python",
   "name": "python3"
  },
  "language_info": {
   "codemirror_mode": {
    "name": "ipython",
    "version": 3
   },
   "file_extension": ".py",
   "mimetype": "text/x-python",
   "name": "python",
   "nbconvert_exporter": "python",
   "pygments_lexer": "ipython3",
   "version": "3.8.5"
  }
 },
 "nbformat": 4,
 "nbformat_minor": 5
}
