{
 "cells": [
  {
   "cell_type": "markdown",
   "id": "martial-lover",
   "metadata": {},
   "source": [
    "It is a good practice to divide the whole dataset we are using into two groups:\n",
    "* Training set: the one we will use to train our model (for the one the parameters are computed)\n",
    "* Test set: the one that the model with be tested to know it's validity\n",
    "\n",
    "And there are several ways we can do this division (normally 80/20 or 75/25 between training set and test set respectively)."
   ]
  },
  {
   "cell_type": "code",
   "execution_count": 5,
   "id": "soviet-guyana",
   "metadata": {},
   "outputs": [],
   "source": [
    "import numpy as np\n",
    "import pandas as pd\n",
    "import matplotlib.pyplot as plt\n",
    "\n",
    "\n",
    "mainpath = \"C:/Users/Msi/Documents/YO/Programación/Machine Learning/datasets\"\n",
    "filepath = \"/customer_churn_model/customer_churn_model.txt\"\n",
    "data = pd.read_csv(mainpath+filepath)"
   ]
  },
  {
   "cell_type": "markdown",
   "id": "crude-tucson",
   "metadata": {},
   "source": [
    "## Normal distribution"
   ]
  },
  {
   "cell_type": "code",
   "execution_count": 6,
   "id": "convenient-benchmark",
   "metadata": {},
   "outputs": [
    {
     "data": {
      "text/plain": [
       "(array([ 702.,    0.,    0.,    0.,    0.,    0.,    0.,    0.,    0.,\n",
       "        2631.]),\n",
       " array([0. , 0.1, 0.2, 0.3, 0.4, 0.5, 0.6, 0.7, 0.8, 0.9, 1. ]),\n",
       " <BarContainer object of 10 artists>)"
      ]
     },
     "execution_count": 6,
     "metadata": {},
     "output_type": "execute_result"
    },
    {
     "data": {
      "image/png": "[encoded data removed]",
      "text/plain": [
       "<Figure size 432x288 with 1 Axes>"
      ]
     },
     "metadata": {
      "needs_background": "light"
     },
     "output_type": "display_data"
    }
   ],
   "source": [
    "#We use a normal distribution to select the values\n",
    "\n",
    "a = np.random.randn(len(data))\n",
    "#We create a normal distribution of the length of the data\n",
    "\n",
    "check = (a<0.8)\n",
    "#We do a boolean test to collect the values that are lower in the distribution of 0.8 (which will represent aprx. for 80%)\n",
    "\n",
    "plt.hist(check.astype(int))\n",
    "#Make the plot of this. As it is a boolean list, we put .astype(int) to be able to plot it"
   ]
  },
  {
   "cell_type": "code",
   "execution_count": 8,
   "id": "rocky-neutral",
   "metadata": {},
   "outputs": [],
   "source": [
    "#And now we make the division of datasets\n",
    "training = data[check]\n",
    "testing = data[~check]"
   ]
  },
  {
   "cell_type": "code",
   "execution_count": 9,
   "id": "simplified-theater",
   "metadata": {},
   "outputs": [
    {
     "data": {
      "text/plain": [
       "2631"
      ]
     },
     "execution_count": 9,
     "metadata": {},
     "output_type": "execute_result"
    }
   ],
   "source": [
    "#We can make the length to make sure the proportions are aprx. 80/20\n",
    "len(training)"
   ]
  },
  {
   "cell_type": "code",
   "execution_count": 10,
   "id": "lovely-community",
   "metadata": {},
   "outputs": [
    {
     "data": {
      "text/plain": [
       "702"
      ]
     },
     "execution_count": 10,
     "metadata": {},
     "output_type": "execute_result"
    }
   ],
   "source": [
    "len(testing)"
   ]
  },
  {
   "cell_type": "markdown",
   "id": "pretty-participation",
   "metadata": {},
   "source": [
    "## Sklean train_test_split"
   ]
  },
  {
   "cell_type": "code",
   "execution_count": null,
   "id": "democratic-skating",
   "metadata": {},
   "outputs": [],
   "source": []
  }
 ],
 "metadata": {
  "kernelspec": {
   "display_name": "Python 3",
   "language": "python",
   "name": "python3"
  },
  "language_info": {
   "codemirror_mode": {
    "name": "ipython",
    "version": 3
   },
   "file_extension": ".py",
   "mimetype": "text/x-python",
   "name": "python",
   "nbconvert_exporter": "python",
   "pygments_lexer": "ipython3",
   "version": "3.8.5"
  }
 },
 "nbformat": 4,
 "nbformat_minor": 5
}
