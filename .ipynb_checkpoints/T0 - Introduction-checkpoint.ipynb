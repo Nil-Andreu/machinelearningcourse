{
 "cells": [
  {
   "cell_type": "markdown",
   "id": "conventional-claim",
   "metadata": {},
   "source": [
    "# What is Data Science?"
   ]
  },
  {
   "cell_type": "markdown",
   "id": "typical-killer",
   "metadata": {},
   "source": [
    "**Data Science** uses varios techniques and methods to obtain valuable information from the data.\n",
    "It is necessary to have some knowledge of statistics, which will be covered in the second topic of this repository."
   ]
  },
  {
   "cell_type": "markdown",
   "id": "super-carry",
   "metadata": {},
   "source": [
    "# Why Python?"
   ]
  },
  {
   "cell_type": "markdown",
   "id": "warming-retro",
   "metadata": {},
   "source": [
    "Python is the number one programming language in Data Science. This is because of several reasons:\n",
    "* Easy to learn\n",
    "* The syntax is easy to read and understand\n",
    "* There are a lot of libraries to perform data analysis"
   ]
  }
 ],
 "metadata": {
  "kernelspec": {
   "display_name": "Python 3",
   "language": "python",
   "name": "python3"
  },
  "language_info": {
   "codemirror_mode": {
    "name": "ipython",
    "version": 3
   },
   "file_extension": ".py",
   "mimetype": "text/x-python",
   "name": "python",
   "nbconvert_exporter": "python",
   "pygments_lexer": "ipython3",
   "version": "3.8.5"
  }
 },
 "nbformat": 4,
 "nbformat_minor": 5
}
