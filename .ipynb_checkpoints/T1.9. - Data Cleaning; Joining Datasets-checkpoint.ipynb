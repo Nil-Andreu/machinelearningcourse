{
 "cells": [
  {
   "cell_type": "code",
   "execution_count": null,
   "id": "attended-center",
   "metadata": {},
   "outputs": [],
   "source": [
    "#Make the importations first of all\n",
    "import pandas as pd\n",
    "import numpy as np\n",
    "import matplotlib.pyplot as plt\n",
    "from IPython.display import Image #To be able to display images in the notebook"
   ]
  },
  {
   "cell_type": "code",
   "execution_count": null,
   "id": "lightweight-peter",
   "metadata": {},
   "outputs": [],
   "source": [
    "#Now going to import the dataset\n",
    "filepath = \"datasets/athletes/Medals.csv\"\n",
    "data = pd.read_csv(filepath)\n",
    "data.head()"
   ]
  }
 ],
 "metadata": {
  "kernelspec": {
   "display_name": "Python 3",
   "language": "python",
   "name": "python3"
  },
  "language_info": {
   "codemirror_mode": {
    "name": "ipython",
    "version": 3
   },
   "file_extension": ".py",
   "mimetype": "text/x-python",
   "name": "python",
   "nbconvert_exporter": "python",
   "pygments_lexer": "ipython3",
   "version": "3.8.5"
  }
 },
 "nbformat": 4,
 "nbformat_minor": 5
}
