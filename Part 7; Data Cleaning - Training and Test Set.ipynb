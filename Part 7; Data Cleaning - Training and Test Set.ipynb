{
 "cells": [
  {
   "cell_type": "markdown",
   "id": "outer-disclaimer",
   "metadata": {},
   "source": [
    "It is a good practice to divide the whole dataset we are using into two groups:\n",
    "* Training set: the one we will use to train our model (for the one the parameters are computed)\n",
    "* Test set: the one that the model with be tested to know it's validity\n",
    "\n",
    "And there are several ways we can do this division (normally 80/20 or 75/25 between training set and test set respectively)."
   ]
  },
  {
   "cell_type": "code",
   "execution_count": null,
   "id": "coupled-topic",
   "metadata": {},
   "outputs": [],
   "source": []
  }
 ],
 "metadata": {
  "kernelspec": {
   "display_name": "Python 3",
   "language": "python",
   "name": "python3"
  },
  "language_info": {
   "codemirror_mode": {
    "name": "ipython",
    "version": 3
   },
   "file_extension": ".py",
   "mimetype": "text/x-python",
   "name": "python",
   "nbconvert_exporter": "python",
   "pygments_lexer": "ipython3",
   "version": "3.8.5"
  }
 },
 "nbformat": 4,
 "nbformat_minor": 5
}
