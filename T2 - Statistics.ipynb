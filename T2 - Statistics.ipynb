{
 "cells": [
  {
   "cell_type": "markdown",
   "id": "metallic-remains",
   "metadata": {},
   "source": [
    "## Measures of centralization"
   ]
  },
  {
   "cell_type": "markdown",
   "id": "fixed-albany",
   "metadata": {},
   "source": [
    "The **measures of centralization** allow us to know which is the \"center\" of a certain distribution.\n",
    "\n",
    "We have different ways to measure it, and we will go for each one of them."
   ]
  },
  {
   "cell_type": "markdown",
   "id": "entitled-superintendent",
   "metadata": {},
   "source": [
    "### Arithmetic Mean"
   ]
  },
  {
   "cell_type": "markdown",
   "id": "final-actress",
   "metadata": {},
   "source": [
    "How the arithmetic mean is computed is by summing all the values, and then dividing by the number of values that the distribution has.\n",
    "\n",
    "This measure has some disavantage. The main one is that is very sensitive to outliers (values that are very separated from the center)."
   ]
  },
  {
   "cell_type": "code",
   "execution_count": 4,
   "id": "handed-journey",
   "metadata": {},
   "outputs": [
    {
     "data": {
      "text/plain": [
       "20"
      ]
     },
     "execution_count": 4,
     "metadata": {},
     "output_type": "execute_result"
    }
   ],
   "source": [
    "#We could f.e. want to know the average of an array\n",
    "import statistics #Import this library which will allow us to make statistical computations\n",
    "\n",
    "a = [18, 20, 22] #We create the array \n",
    "x = statistics.mean(a) #And we do the mean, which would be: (18+20+22)/3\n",
    "x"
   ]
  },
  {
   "cell_type": "markdown",
   "id": "cross-therapist",
   "metadata": {},
   "source": [
    "### Median"
   ]
  },
  {
   "cell_type": "markdown",
   "id": "taken-typing",
   "metadata": {},
   "source": [
    "Is the value that separates the higher half from the lowest half.\n",
    "Saying it in other words, is the value for which the 50% of the other values are lower, and the other 50% are higher."
   ]
  },
  {
   "cell_type": "code",
   "execution_count": 6,
   "id": "entertaining-zimbabwe",
   "metadata": {},
   "outputs": [
    {
     "data": {
      "text/plain": [
       "20"
      ]
     },
     "execution_count": 6,
     "metadata": {},
     "output_type": "execute_result"
    }
   ],
   "source": [
    "#Which is the median of the array a?\n",
    "statistics.median(a)\n",
    "\n",
    "#The median would be the one which has the same proportion of values lower and higher, which in this case is 20"
   ]
  }
 ],
 "metadata": {
  "kernelspec": {
   "display_name": "Python 3",
   "language": "python",
   "name": "python3"
  },
  "language_info": {
   "codemirror_mode": {
    "name": "ipython",
    "version": 3
   },
   "file_extension": ".py",
   "mimetype": "text/x-python",
   "name": "python",
   "nbconvert_exporter": "python",
   "pygments_lexer": "ipython3",
   "version": "3.8.5"
  }
 },
 "nbformat": 4,
 "nbformat_minor": 5
}
