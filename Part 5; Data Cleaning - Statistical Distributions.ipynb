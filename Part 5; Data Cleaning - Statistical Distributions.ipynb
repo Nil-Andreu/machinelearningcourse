{
 "cells": [
  {
   "cell_type": "markdown",
   "id": "floating-swift",
   "metadata": {},
   "source": [
    "## Uniform distribution"
   ]
  },
  {
   "cell_type": "code",
   "execution_count": 1,
   "id": "likely-participation",
   "metadata": {},
   "outputs": [
    {
     "data": {
      "text/plain": [
       "(array([18., 14., 19., 19., 21., 22., 21., 25., 20., 21.]),\n",
       " array([ 1.40944381, 11.15433185, 20.89921988, 30.64410792, 40.38899596,\n",
       "        50.133884  , 59.87877204, 69.62366007, 79.36854811, 89.11343615,\n",
       "        98.85832419]),\n",
       " <BarContainer object of 10 artists>)"
      ]
     },
     "execution_count": 1,
     "metadata": {},
     "output_type": "execute_result"
    },
    {
     "data": {
      "image/png": "[encoded data removed]",
      "text/plain": [
       "<Figure size 432x288 with 1 Axes>"
      ]
     },
     "metadata": {
      "needs_background": "light"
     },
     "output_type": "display_data"
    }
   ],
   "source": [
    "#A uniform distribution is the one for which the values have the same probability\n",
    "import numpy as np\n",
    "import matplotlib.pyplot as plt\n",
    "#Where we import the numpy for doing the computations, and matplotlib for the graphical representations\n",
    "\n",
    "a = 1\n",
    "b = 100\n",
    "n = 200\n",
    "#The values we are going to make for the uniform distribution\n",
    "\n",
    "data = np.random.uniform(a,b,n)\n",
    "#Where a is the initial value it can take, the b is the end of the interval. N is the number of values we get.\n",
    "\n",
    "%matplotlib inline\n",
    "plt.hist(data)\n",
    "#Plotting an histogram\n"
   ]
  },
  {
   "cell_type": "code",
   "execution_count": null,
   "id": "numerous-peoples",
   "metadata": {},
   "outputs": [],
   "source": []
  },
  {
   "cell_type": "code",
   "execution_count": null,
   "id": "instrumental-netherlands",
   "metadata": {},
   "outputs": [],
   "source": []
  }
 ],
 "metadata": {
  "kernelspec": {
   "display_name": "Python 3",
   "language": "python",
   "name": "python3"
  },
  "language_info": {
   "codemirror_mode": {
    "name": "ipython",
    "version": 3
   },
   "file_extension": ".py",
   "mimetype": "text/x-python",
   "name": "python",
   "nbconvert_exporter": "python",
   "pygments_lexer": "ipython3",
   "version": "3.8.5"
  }
 },
 "nbformat": 4,
 "nbformat_minor": 5
}
