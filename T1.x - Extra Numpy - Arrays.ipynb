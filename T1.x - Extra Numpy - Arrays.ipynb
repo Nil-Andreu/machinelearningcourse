{
 "cells": [
  {
   "cell_type": "markdown",
   "id": "checked-donor",
   "metadata": {},
   "source": [
    "## NumPy"
   ]
  },
  {
   "cell_type": "markdown",
   "id": "opposed-night",
   "metadata": {},
   "source": [
    "**NumPy** (Numerical Python) is the Python library most used to owrk with numerical data. \n",
    "It includes functions and data structures that can perform a wide variety of **mathematical** operations."
   ]
  },
  {
   "cell_type": "code",
   "execution_count": 2,
   "id": "entertaining-ranking",
   "metadata": {},
   "outputs": [],
   "source": [
    "#To use it we first need to import it\n",
    "import numpy as np\n",
    "#IS usuarlly imported with the name of np"
   ]
  },
  {
   "cell_type": "markdown",
   "id": "incorporate-consumption",
   "metadata": {},
   "source": [
    "## Numpy Array"
   ]
  },
  {
   "cell_type": "code",
   "execution_count": 16,
   "id": "lovely-length",
   "metadata": {},
   "outputs": [
    {
     "data": {
      "text/plain": [
       "array([1, 2, 3, 4])"
      ]
     },
     "execution_count": 16,
     "metadata": {},
     "output_type": "execute_result"
    }
   ],
   "source": [
    "#It provides an array structure to be able to perform operations with data\n",
    "#Those Numpy arrays are faster and more compact than lists of Python\n",
    "x = np.array([1, 2, 3, 4])\n",
    "x"
   ]
  },
  {
   "cell_type": "markdown",
   "id": "floral-representation",
   "metadata": {},
   "source": [
    "The values inside of the array of numpy need to be **homogeneuos**, meaning that they can only obtain a single data type, while lists can contain multiple types."
   ]
  },
  {
   "cell_type": "code",
   "execution_count": 7,
   "id": "determined-charger",
   "metadata": {},
   "outputs": [
    {
     "data": {
      "text/plain": [
       "4"
      ]
     },
     "execution_count": 7,
     "metadata": {},
     "output_type": "execute_result"
    }
   ],
   "source": [
    "#We can create ndarrays, which means \"N-dimensional array\"\n",
    "y = np.array([[1,2,3], [4,5,6], [7,8,9]])\n",
    "\n",
    "#And to get the first value of the second dimension, we will:\n",
    "y[1][0]\n",
    "\n",
    "#Where the number 1 stands for the second column, and 0 for the first row\n",
    "#This is because those values are indexed starting from 0"
   ]
  },
  {
   "cell_type": "markdown",
   "id": "regional-clarity",
   "metadata": {},
   "source": [
    "Those arrays have properties, which can be accessed using a dot. Some of them:\n",
    "* **ndim** returns the number of dimensions of the array\n",
    "* **size** returns the total number of elements of the array\n",
    "* **shape** returns a tuple of integers that indicate the number of elements stored along each dimension of the array\n",
    "We will look at them:"
   ]
  },
  {
   "cell_type": "code",
   "execution_count": 8,
   "id": "alleged-absence",
   "metadata": {},
   "outputs": [
    {
     "data": {
      "text/plain": [
       "2"
      ]
     },
     "execution_count": 8,
     "metadata": {},
     "output_type": "execute_result"
    }
   ],
   "source": [
    "#The number of dimensions\n",
    "y.ndim\n",
    "\n",
    "#2 as we have the columns and rows"
   ]
  },
  {
   "cell_type": "code",
   "execution_count": 10,
   "id": "neutral-velvet",
   "metadata": {},
   "outputs": [
    {
     "data": {
      "text/plain": [
       "9"
      ]
     },
     "execution_count": 10,
     "metadata": {},
     "output_type": "execute_result"
    }
   ],
   "source": [
    "y.size #The number of values we have"
   ]
  },
  {
   "cell_type": "code",
   "execution_count": 11,
   "id": "meaningful-elder",
   "metadata": {},
   "outputs": [
    {
     "data": {
      "text/plain": [
       "(3, 3)"
      ]
     },
     "execution_count": 11,
     "metadata": {},
     "output_type": "execute_result"
    }
   ],
   "source": [
    "y.shape #The number of rows and columns"
   ]
  },
  {
   "cell_type": "markdown",
   "id": "cooperative-villa",
   "metadata": {},
   "source": [
    "To the arrays, we can add, remove and sort by using:\n",
    "* **np.append()**\n",
    "* **np.delete()**\n",
    "* **np.sort()**"
   ]
  },
  {
   "cell_type": "code",
   "execution_count": 12,
   "id": "concerned-accessory",
   "metadata": {},
   "outputs": [
    {
     "data": {
      "text/plain": [
       "array([1, 2, 3, 4])"
      ]
     },
     "execution_count": 12,
     "metadata": {},
     "output_type": "execute_result"
    }
   ],
   "source": [
    "#We will do this computation to the array x\n",
    "x"
   ]
  },
  {
   "cell_type": "code",
   "execution_count": 17,
   "id": "practical-afghanistan",
   "metadata": {},
   "outputs": [
    {
     "data": {
      "text/plain": [
       "array([1, 2, 3, 4, 5])"
      ]
     },
     "execution_count": 17,
     "metadata": {},
     "output_type": "execute_result"
    }
   ],
   "source": [
    "#Where we put to the function first which is the array, and then the number\n",
    "x = np.append(x, 5)\n",
    "x"
   ]
  },
  {
   "cell_type": "code",
   "execution_count": 19,
   "id": "liberal-factory",
   "metadata": {},
   "outputs": [
    {
     "data": {
      "text/plain": [
       "array([1, 2, 3, 4])"
      ]
     },
     "execution_count": 19,
     "metadata": {},
     "output_type": "execute_result"
    }
   ],
   "source": [
    "#We are going to delete the value which is indexed in the 4th position\n",
    "x = np.delete(x, 4)\n",
    "x\n",
    "\n",
    "#Remember that arrays are indexed starting from 0"
   ]
  },
  {
   "cell_type": "code",
   "execution_count": 24,
   "id": "fewer-manor",
   "metadata": {},
   "outputs": [
    {
     "data": {
      "text/plain": [
       "array([2, 2, 3, 8])"
      ]
     },
     "execution_count": 24,
     "metadata": {},
     "output_type": "execute_result"
    }
   ],
   "source": [
    "#And for the sort one\n",
    "w = np.array([2,8,2]) \n",
    "w = np.append(w, w.size) #Append the number which is equal to size of w (3)\n",
    "w = np.sort(w) #We here sort by size of numbers, from the lowest to highest\n",
    "w"
   ]
  },
  {
   "cell_type": "markdown",
   "id": "confident-article",
   "metadata": {},
   "source": [
    "We can use **np.arange** to create an array that contains a range of evently spaced intervals"
   ]
  },
  {
   "cell_type": "code",
   "execution_count": 21,
   "id": "durable-donna",
   "metadata": {},
   "outputs": [
    {
     "data": {
      "text/plain": [
       "array([2, 5, 8])"
      ]
     },
     "execution_count": 21,
     "metadata": {},
     "output_type": "execute_result"
    }
   ],
   "source": [
    "#Will create an array that starts from 2...\n",
    "#ith intervals of 3 and maximum value is 10\n",
    "z = np.arange(2, 10, 3)\n",
    "z"
   ]
  },
  {
   "cell_type": "markdown",
   "id": "entire-communications",
   "metadata": {},
   "source": [
    "### Changing the shape"
   ]
  },
  {
   "cell_type": "markdown",
   "id": "atmospheric-conversion",
   "metadata": {},
   "source": [
    "Numpy allows us to change the shape of our arrays using the **reshape** function. \n",
    "When you use the reshape method, the array you want to produce needs to have the same number of elements as the original array."
   ]
  },
  {
   "cell_type": "code",
   "execution_count": 3,
   "id": "binary-contribution",
   "metadata": {},
   "outputs": [
    {
     "data": {
      "text/plain": [
       "array([1, 2, 3, 4, 5, 6])"
      ]
     },
     "execution_count": 3,
     "metadata": {},
     "output_type": "execute_result"
    }
   ],
   "source": [
    "x = np.arange(1,7)\n",
    "x"
   ]
  },
  {
   "cell_type": "code",
   "execution_count": 5,
   "id": "manufactured-telephone",
   "metadata": {},
   "outputs": [
    {
     "data": {
      "text/plain": [
       "array([[1, 2],\n",
       "       [3, 4],\n",
       "       [5, 6]])"
      ]
     },
     "execution_count": 5,
     "metadata": {},
     "output_type": "execute_result"
    }
   ],
   "source": [
    "#We will reshape the one-dimensional array of x to an array with 3 rows and 2 columns\n",
    "z = x.reshape(3, 2)\n",
    "z"
   ]
  },
  {
   "cell_type": "code",
   "execution_count": 6,
   "id": "atomic-venezuela",
   "metadata": {},
   "outputs": [
    {
     "data": {
      "text/plain": [
       "array([1, 2, 3, 4, 5, 6])"
      ]
     },
     "execution_count": 6,
     "metadata": {},
     "output_type": "execute_result"
    }
   ],
   "source": [
    "#We can also make the opposite, from the 3*2 to a one-dimensional array\n",
    "x = z.reshape(6)\n",
    "x"
   ]
  },
  {
   "cell_type": "markdown",
   "id": "global-exposure",
   "metadata": {},
   "source": [
    "### Indexing and slicing"
   ]
  },
  {
   "cell_type": "code",
   "execution_count": 7,
   "id": "graduate-terrace",
   "metadata": {},
   "outputs": [
    {
     "name": "stdout",
     "output_type": "stream",
     "text": [
      "[1 2]\n",
      "[6 7 8 9]\n",
      "[1 2]\n",
      "[7 8 9]\n"
     ]
    }
   ],
   "source": [
    "#NumPy arrays can be indexed and sliced the same way that Python lists are.\n",
    "x = np.arange(1, 10)\n",
    "\n",
    "print(x[0:2]) #Will print the first 3 elements\n",
    "print(x[5:]) #Will print from the 6th to the last\n",
    "print(x[:2]) #Will print to the 3rd element\n",
    "print(x[-3:]) #Will print from the 3rd starting at the end to the end"
   ]
  },
  {
   "cell_type": "code",
   "execution_count": 10,
   "id": "elementary-simon",
   "metadata": {},
   "outputs": [
    {
     "name": "stdout",
     "output_type": "stream",
     "text": [
      "[1 2 3]\n",
      "[3]\n"
     ]
    }
   ],
   "source": [
    "#You can provide a condition as the index to select the elements \n",
    "# that fulfill the given condition.\n",
    "print(x[x<4]) #For printing only the numbers that are lower than 4\n",
    "\n",
    "#Those conditions can be combined\n",
    "print(x[(x<4) & (x>2)]) #Each condition goes inside parantheses"
   ]
  },
  {
   "cell_type": "markdown",
   "id": "wrapped-somalia",
   "metadata": {},
   "source": [
    "### Array operation"
   ]
  },
  {
   "cell_type": "markdown",
   "id": "worth-honor",
   "metadata": {},
   "source": [
    "It is easy to perform basic mathematical operations with arrays.\n",
    "For example, to find the sum of all elements, we use the **sum()** function:"
   ]
  },
  {
   "cell_type": "code",
   "execution_count": 11,
   "id": "respective-bennett",
   "metadata": {},
   "outputs": [
    {
     "name": "stdout",
     "output_type": "stream",
     "text": [
      "45\n"
     ]
    }
   ],
   "source": [
    "#To get the summ of all numbers in the array sum method of the array\n",
    "print(x.sum())"
   ]
  },
  {
   "cell_type": "markdown",
   "id": "religious-ending",
   "metadata": {},
   "source": [
    "Similarly, **min()** and **max()** can be used to get the smallest and largest elements.\n",
    "\n",
    "We can also perform operations between the array and a single number."
   ]
  },
  {
   "cell_type": "code",
   "execution_count": 13,
   "id": "applicable-teach",
   "metadata": {},
   "outputs": [
    {
     "name": "stdout",
     "output_type": "stream",
     "text": [
      "[1 2 3 4 5 6 7 8 9]\n",
      "1\n",
      "9\n"
     ]
    }
   ],
   "source": [
    "print(x) #To see which are the values\n",
    "print(x.min()) #To print the minimum\n",
    "print(x.max()) #To print the maximum"
   ]
  },
  {
   "cell_type": "markdown",
   "id": "devoted-concentration",
   "metadata": {},
   "source": [
    "We can also multiply the whole elements of an array.\n",
    "NumPy understands that the given operation should be performed with each element. This is called **broadcasting**."
   ]
  },
  {
   "cell_type": "code",
   "execution_count": 14,
   "id": "rocky-quest",
   "metadata": {},
   "outputs": [
    {
     "name": "stdout",
     "output_type": "stream",
     "text": [
      "[1 2 3 4 5 6 7 8 9]\n",
      "[ 2  4  6  8 10 12 14 16 18]\n"
     ]
    }
   ],
   "source": [
    "print(x)\n",
    "\n",
    "#And then we multiply them by 2\n",
    "y = x*2\n",
    "print(y)"
   ]
  },
  {
   "cell_type": "markdown",
   "id": "automotive-traffic",
   "metadata": {},
   "source": [
    "### Statistics"
   ]
  }
 ],
 "metadata": {
  "kernelspec": {
   "display_name": "Python 3",
   "language": "python",
   "name": "python3"
  },
  "language_info": {
   "codemirror_mode": {
    "name": "ipython",
    "version": 3
   },
   "file_extension": ".py",
   "mimetype": "text/x-python",
   "name": "python",
   "nbconvert_exporter": "python",
   "pygments_lexer": "ipython3",
   "version": "3.8.5"
  }
 },
 "nbformat": 4,
 "nbformat_minor": 5
}
