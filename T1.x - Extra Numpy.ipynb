{
 "cells": [
  {
   "cell_type": "markdown",
   "id": "soviet-isolation",
   "metadata": {},
   "source": [
    "## NumPy"
   ]
  },
  {
   "cell_type": "markdown",
   "id": "endless-senator",
   "metadata": {},
   "source": [
    "**NumPy** (Numerical Python) is the Python library most used to owrk with numerical data. \n",
    "It includes functions and data structures that can perform a wide variety of **mathematical** operations."
   ]
  },
  {
   "cell_type": "code",
   "execution_count": 1,
   "id": "average-thanksgiving",
   "metadata": {},
   "outputs": [],
   "source": [
    "#To use it we first need to import it\n",
    "import numpy as np\n",
    "#IS usuarlly imported with the name of np"
   ]
  },
  {
   "cell_type": "markdown",
   "id": "toxic-armstrong",
   "metadata": {},
   "source": [
    "## Numpy Array"
   ]
  },
  {
   "cell_type": "code",
   "execution_count": 2,
   "id": "legislative-flavor",
   "metadata": {},
   "outputs": [
    {
     "data": {
      "text/plain": [
       "array([1, 2, 3, 4])"
      ]
     },
     "execution_count": 2,
     "metadata": {},
     "output_type": "execute_result"
    }
   ],
   "source": [
    "#It provides an array structure to be able to perform operations with data\n",
    "#Those Numpy arrays are faster and more compact than lists of Python\n",
    "x = np.array([1, 2, 3, 4])\n",
    "x"
   ]
  },
  {
   "cell_type": "markdown",
   "id": "indonesian-memphis",
   "metadata": {},
   "source": [
    "The values inside of the array of numpy need to be **homogeneuos**, meaning that they can only obtain a single data type, while lists can contain multiple types."
   ]
  },
  {
   "cell_type": "code",
   "execution_count": 7,
   "id": "robust-fourth",
   "metadata": {},
   "outputs": [
    {
     "data": {
      "text/plain": [
       "4"
      ]
     },
     "execution_count": 7,
     "metadata": {},
     "output_type": "execute_result"
    }
   ],
   "source": [
    "#We can create ndarrays, which means \"N-dimensional array\"\n",
    "y = np.array([[1,2,3], [4,5,6], [7,8,9]])\n",
    "\n",
    "#And to get the first value of the second dimension, we will:\n",
    "y[1][0]\n",
    "\n",
    "#Where the number 1 stands for the second column, and 0 for the first row\n",
    "#This is because those values are indexed starting from 0"
   ]
  },
  {
   "cell_type": "markdown",
   "id": "suited-adelaide",
   "metadata": {},
   "source": [
    "Those arrays have properties, which can be accessed using a dot. Some of them:\n",
    "* **ndim** returns the number of dimensions of the array\n",
    "* *"
   ]
  }
 ],
 "metadata": {
  "kernelspec": {
   "display_name": "Python 3",
   "language": "python",
   "name": "python3"
  },
  "language_info": {
   "codemirror_mode": {
    "name": "ipython",
    "version": 3
   },
   "file_extension": ".py",
   "mimetype": "text/x-python",
   "name": "python",
   "nbconvert_exporter": "python",
   "pygments_lexer": "ipython3",
   "version": "3.8.5"
  }
 },
 "nbformat": 4,
 "nbformat_minor": 5
}
