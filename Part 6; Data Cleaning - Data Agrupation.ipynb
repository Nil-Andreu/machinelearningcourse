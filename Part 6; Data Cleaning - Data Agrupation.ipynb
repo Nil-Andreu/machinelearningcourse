{
 "cells": [
  {
   "cell_type": "markdown",
   "id": "competitive-manitoba",
   "metadata": {},
   "source": [
    "## Agrupations of data"
   ]
  },
  {
   "cell_type": "code",
   "execution_count": 1,
   "id": "consistent-windows",
   "metadata": {},
   "outputs": [],
   "source": [
    "#We can agrupate the data to be able to analyse it easier\n",
    "import numpy as np\n",
    "import pandas as pd\n",
    "\n",
    "n=500\n",
    "#Where is going to be the size of the database\n",
    "\n",
    "gender = [\"Male\", \"Female\"]\n",
    "income_status = [\"Poor\", \"Middle\", \"Rich\"]\n",
    "\n",
    "gender_data = []\n",
    "income_status_data = []\n",
    "\n",
    "for i in range(0,n):\n",
    "    gender_data.append(np.random.choice(gender))\n",
    "    income_status_data.append(np.random.choice(income_status))\n",
    "#Creating randomly the gender and income_status variables\n",
    "\n",
    "height = 160 + 30 * np.random.randn(n)\n",
    "weight = 65 + 25 * np.random.randn(n)\n",
    "age = 30 + 12 * np.random.randn(n)\n",
    "income = 18000 + 3500 * np.random.randn(n)"
   ]
  },
  {
   "cell_type": "code",
   "execution_count": 2,
   "id": "unknown-number",
   "metadata": {},
   "outputs": [],
   "source": [
    "#And now we can create the dataframe\n",
    "data = pd.DataFrame(\n",
    "    {\n",
    "        \"Gender\":gender_data,\n",
    "        \"Income Status\":income_status_data,\n",
    "        \"Height\":height,\n",
    "        \"Weigth\":weight,\n",
    "        \"Age\":age,\n",
    "        \"Income\":income,\n",
    "    }\n",
    ")"
   ]
  },
  {
   "cell_type": "code",
   "execution_count": 3,
   "id": "billion-theory",
   "metadata": {},
   "outputs": [
    {
     "name": "stdout",
     "output_type": "stream",
     "text": [
      "Female\n",
      "     Gender Income Status      Height     Weigth        Age        Income\n",
      "0    Female        Middle  197.616062  45.602070  21.199463  18689.707116\n",
      "1    Female          Poor  166.080215  61.536641  15.667875  24979.049042\n",
      "4    Female        Middle  170.328542  64.676432  21.780541  23489.425822\n",
      "5    Female          Poor  163.563833  98.096042  37.540700  21069.078857\n",
      "6    Female          Rich  130.689964  71.975520   7.675914  19676.501695\n",
      "..      ...           ...         ...        ...        ...           ...\n",
      "478  Female          Rich  221.908685  99.935088  18.859273  16511.543674\n",
      "483  Female        Middle  179.657175  57.989501  26.066761  17890.444685\n",
      "492  Female        Middle   95.114050  68.476789  16.164635  22083.864440\n",
      "497  Female          Poor  225.505881  72.467419  41.486338  13931.694258\n",
      "499  Female          Poor  172.118835  41.459631  31.998900  21194.041316\n",
      "\n",
      "[265 rows x 6 columns]\n",
      "Male\n",
      "    Gender Income Status      Height      Weigth        Age        Income\n",
      "2     Male          Poor  210.076447   32.350057  17.564804  15748.312647\n",
      "3     Male          Rich  192.504874   64.944277  27.165236  15060.290553\n",
      "7     Male          Poor  187.891616   56.812018  24.588439  19765.886481\n",
      "9     Male          Poor  134.283126   85.964226  28.973057  17585.761423\n",
      "10    Male          Poor  147.511703   74.312920  21.475747  19820.133653\n",
      "..     ...           ...         ...         ...        ...           ...\n",
      "493   Male        Middle  198.178299   71.998523   8.747326  14471.666667\n",
      "494   Male          Rich  154.699620   63.476926  23.555411  17871.486475\n",
      "495   Male          Rich  196.541506   86.925355  26.694248  16869.548148\n",
      "496   Male          Rich  133.723656   39.312049  31.053993  15291.233921\n",
      "498   Male          Poor  160.685841  101.369402  30.359234  11453.770295\n",
      "\n",
      "[235 rows x 6 columns]\n"
     ]
    }
   ],
   "source": [
    "#And now we can make the agruppations\n",
    "grouped_gender = data.groupby(\"Gender\")\n",
    "\n",
    "for names,groups in grouped_gender:\n",
    "    print(names)\n",
    "    print(groups)\n",
    "#Where the groupby method is going to agrupate the data between Female and Male (names), and each of those names have values (groups)"
   ]
  },
  {
   "cell_type": "code",
   "execution_count": 4,
   "id": "adjusted-picture",
   "metadata": {},
   "outputs": [
    {
     "name": "stdout",
     "output_type": "stream",
     "text": [
      "('Female', 'Middle')\n",
      "     Gender Income Status      Height     Weigth        Age        Income\n",
      "0    Female        Middle  197.616062  45.602070  21.199463  18689.707116\n",
      "4    Female        Middle  170.328542  64.676432  21.780541  23489.425822\n",
      "14   Female        Middle  194.961581  52.399588  19.618182  19638.478451\n",
      "33   Female        Middle  101.086371  90.747600  28.729915  11917.207389\n",
      "53   Female        Middle  142.551232  63.493090  30.511673  14768.819918\n",
      "..      ...           ...         ...        ...        ...           ...\n",
      "462  Female        Middle  158.638670  72.366906  29.806052  18353.429237\n",
      "469  Female        Middle  131.072900  79.445893  22.146649  19814.401344\n",
      "472  Female        Middle   79.872333  41.012242  48.802725  16722.107981\n",
      "483  Female        Middle  179.657175  57.989501  26.066761  17890.444685\n",
      "492  Female        Middle   95.114050  68.476789  16.164635  22083.864440\n",
      "\n",
      "[86 rows x 6 columns]\n",
      "('Female', 'Poor')\n",
      "     Gender Income Status      Height     Weigth        Age        Income\n",
      "1    Female          Poor  166.080215  61.536641  15.667875  24979.049042\n",
      "5    Female          Poor  163.563833  98.096042  37.540700  21069.078857\n",
      "8    Female          Poor  163.194719  93.474138  47.668007  19052.500759\n",
      "16   Female          Poor  193.692443  90.653745  30.428964  18128.683526\n",
      "19   Female          Poor  176.383006  76.627959  48.895198  15999.526807\n",
      "..      ...           ...         ...        ...        ...           ...\n",
      "466  Female          Poor  152.603107  81.656251  10.812917  19466.525822\n",
      "467  Female          Poor  159.900704  41.578329  24.229485  15086.309947\n",
      "476  Female          Poor  143.800675  83.334027  22.473479  17290.951114\n",
      "497  Female          Poor  225.505881  72.467419  41.486338  13931.694258\n",
      "499  Female          Poor  172.118835  41.459631  31.998900  21194.041316\n",
      "\n",
      "[89 rows x 6 columns]\n",
      "('Female', 'Rich')\n",
      "     Gender Income Status      Height      Weigth        Age        Income\n",
      "6    Female          Rich  130.689964   71.975520   7.675914  19676.501695\n",
      "11   Female          Rich  159.696607   49.775716  50.500178  19235.767604\n",
      "13   Female          Rich  152.419978  113.810954  38.077347  15738.890784\n",
      "26   Female          Rich  134.229909   83.500446   6.232502  15822.626896\n",
      "28   Female          Rich  145.748791   42.438945  31.437115  20618.353120\n",
      "..      ...           ...         ...         ...        ...           ...\n",
      "470  Female          Rich  205.449210   59.748879  14.025298  19455.047288\n",
      "473  Female          Rich  180.803344   88.995323  22.266953  20432.673798\n",
      "474  Female          Rich  221.459975  114.581711  32.702628  19318.251151\n",
      "475  Female          Rich  127.258516   63.732806  29.124716  20314.060489\n",
      "478  Female          Rich  221.908685   99.935088  18.859273  16511.543674\n",
      "\n",
      "[90 rows x 6 columns]\n",
      "('Male', 'Middle')\n",
      "    Gender Income Status      Height     Weigth        Age        Income\n",
      "12    Male        Middle  193.573036  66.101036  30.329394  15064.419453\n",
      "15    Male        Middle  183.035954  38.029222  29.913301  15514.659436\n",
      "17    Male        Middle  174.827600  53.399883  20.308703  20714.047992\n",
      "18    Male        Middle  124.621398  45.414739  34.405366  17515.458945\n",
      "25    Male        Middle  203.647506  34.104298  30.022317  17917.038974\n",
      "..     ...           ...         ...        ...        ...           ...\n",
      "471   Male        Middle  122.433939  74.229030  53.245119  17427.086014\n",
      "477   Male        Middle  143.234227  94.375186  13.074500  19409.179876\n",
      "481   Male        Middle  135.153985  45.179987  28.530695  11661.875224\n",
      "489   Male        Middle  189.122411  60.423893  41.180231  17536.007644\n",
      "493   Male        Middle  198.178299  71.998523   8.747326  14471.666667\n",
      "\n",
      "[78 rows x 6 columns]\n",
      "('Male', 'Poor')\n",
      "    Gender Income Status      Height      Weigth        Age        Income\n",
      "2     Male          Poor  210.076447   32.350057  17.564804  15748.312647\n",
      "7     Male          Poor  187.891616   56.812018  24.588439  19765.886481\n",
      "9     Male          Poor  134.283126   85.964226  28.973057  17585.761423\n",
      "10    Male          Poor  147.511703   74.312920  21.475747  19820.133653\n",
      "41    Male          Poor  147.142185   44.863493  10.115612  20983.872349\n",
      "..     ...           ...         ...         ...        ...           ...\n",
      "485   Male          Poor  176.793204   27.195720  18.048947  19384.955503\n",
      "486   Male          Poor  146.962341   86.160638  33.719150  15383.883065\n",
      "487   Male          Poor   65.996721   50.375550  16.588854  19685.691642\n",
      "491   Male          Poor  163.067633   30.719723  26.571940  13832.969284\n",
      "498   Male          Poor  160.685841  101.369402  30.359234  11453.770295\n",
      "\n",
      "[78 rows x 6 columns]\n",
      "('Male', 'Rich')\n",
      "    Gender Income Status      Height     Weigth        Age        Income\n",
      "3     Male          Rich  192.504874  64.944277  27.165236  15060.290553\n",
      "21    Male          Rich  180.404272  91.816974  49.170454  18351.515077\n",
      "22    Male          Rich  189.718724  69.904084  53.732072  17000.287986\n",
      "23    Male          Rich  148.921518  75.190037  44.610043  14999.137722\n",
      "24    Male          Rich  143.724163  67.928614  20.546551  25965.411692\n",
      "..     ...           ...         ...        ...        ...           ...\n",
      "488   Male          Rich  184.777838  80.112909  15.743339  21933.508148\n",
      "490   Male          Rich  176.408587  93.016946  20.541757  15099.434055\n",
      "494   Male          Rich  154.699620  63.476926  23.555411  17871.486475\n",
      "495   Male          Rich  196.541506  86.925355  26.694248  16869.548148\n",
      "496   Male          Rich  133.723656  39.312049  31.053993  15291.233921\n",
      "\n",
      "[79 rows x 6 columns]\n"
     ]
    }
   ],
   "source": [
    "#We can make a double agrupations\n",
    "double_grouped = data.groupby([\"Gender\", \"Income Status\"])\n",
    "\n",
    "for names, groups in double_grouped:\n",
    "    print(names)\n",
    "    print(groups)\n",
    "    \n",
    "#This gives us 6 groups, 2 of the gender multiplied for the 3 values of the category income status"
   ]
  },
  {
   "cell_type": "markdown",
   "id": "juvenile-tamil",
   "metadata": {},
   "source": [
    "## Operations"
   ]
  },
  {
   "cell_type": "code",
   "execution_count": null,
   "id": "unlikely-valuable",
   "metadata": {},
   "outputs": [],
   "source": [
    "#We can make dif"
   ]
  }
 ],
 "metadata": {
  "kernelspec": {
   "display_name": "Python 3",
   "language": "python",
   "name": "python3"
  },
  "language_info": {
   "codemirror_mode": {
    "name": "ipython",
    "version": 3
   },
   "file_extension": ".py",
   "mimetype": "text/x-python",
   "name": "python",
   "nbconvert_exporter": "python",
   "pygments_lexer": "ipython3",
   "version": "3.8.5"
  }
 },
 "nbformat": 4,
 "nbformat_minor": 5
}
