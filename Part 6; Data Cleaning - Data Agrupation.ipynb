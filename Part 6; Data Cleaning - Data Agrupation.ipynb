{
 "cells": [
  {
   "cell_type": "markdown",
   "id": "ideal-psychology",
   "metadata": {},
   "source": [
    "## Agrupations of data"
   ]
  },
  {
   "cell_type": "code",
   "execution_count": 14,
   "id": "induced-shelter",
   "metadata": {},
   "outputs": [],
   "source": [
    "#We can agrupate the data to be able to analyse it easier\n",
    "import numpy as np\n",
    "import pandas as pd\n",
    "\n",
    "n=500\n",
    "#Where is going to be the size of the database\n",
    "\n",
    "gender = [\"Male\", \"Female\"]\n",
    "income_status = [\"Poor\", \"Middle\", \"Rich\"]\n",
    "\n",
    "gender_data = []\n",
    "income_status_data = []\n",
    "\n",
    "for i in range(0,n):\n",
    "    gender_data.append(np.random.choice(gender))\n",
    "    income_status_data.append(np.random.choice(income_status))\n",
    "#Creating randomly the gender and income_status variables\n",
    "\n",
    "height = 160 + 30 * np.random.randn(n)\n",
    "weight = 65 + 25 * np.random.randn(n)\n",
    "age = 30 + 12 * np.random.randn(n)\n",
    "income = 18000 + 3500 * np.random.randn(n)"
   ]
  },
  {
   "cell_type": "code",
   "execution_count": 23,
   "id": "aboriginal-launch",
   "metadata": {},
   "outputs": [],
   "source": [
    "#And now we can create the dataframe\n",
    "data = pd.DataFrame(\n",
    "    {\n",
    "        \"Gender\":gender_data,\n",
    "        \"Income Status\":income_status_data,\n",
    "        \"Height\":height,\n",
    "        \"Weigth\":weight,\n",
    "        \"Age\":age,\n",
    "        \"Income\":income,\n",
    "    }\n",
    ")"
   ]
  },
  {
   "cell_type": "code",
   "execution_count": 25,
   "id": "enabling-butler",
   "metadata": {},
   "outputs": [
    {
     "name": "stdout",
     "output_type": "stream",
     "text": [
      "Female\n",
      "     Gender Income Status      Height      Weigth        Age        Income\n",
      "5    Female          Poor  190.145735  137.335395  31.090139  21924.977684\n",
      "6    Female          Rich  122.505603   43.192529  18.348594  12416.602762\n",
      "9    Female        Middle  144.263359   30.333511  36.470912  17773.899582\n",
      "10   Female        Middle  195.322699   54.660884  30.805352  14924.164627\n",
      "12   Female        Middle  151.990131   72.819253  42.890570  14557.850670\n",
      "..      ...           ...         ...         ...        ...           ...\n",
      "493  Female        Middle  234.474687   46.946728  35.935515  20382.835289\n",
      "494  Female          Poor  141.787769   64.242606  38.130808  20997.271427\n",
      "495  Female        Middle  174.831250   77.455495  49.797803  16790.067169\n",
      "498  Female          Rich  164.022940   91.722143  23.529118  16811.333146\n",
      "499  Female          Poor  169.475304   41.564898  30.682838  16678.941499\n",
      "\n",
      "[251 rows x 6 columns]\n",
      "Male\n",
      "    Gender Income Status      Height      Weigth        Age        Income\n",
      "0     Male          Rich  161.118257   92.342690  13.726473  19987.349666\n",
      "1     Male        Middle  144.216697   55.051548  36.234131  15963.126376\n",
      "2     Male          Poor  160.773326   96.812092  29.462134  19026.345456\n",
      "3     Male          Poor  188.238632   70.598115  24.779954  19553.275829\n",
      "4     Male          Rich  186.223419   40.790137  48.837516  16991.910505\n",
      "..     ...           ...         ...         ...        ...           ...\n",
      "489   Male          Poor  139.396412  136.171127  31.685364  15156.375664\n",
      "490   Male          Rich  136.068925   97.016926  18.964402  20683.147173\n",
      "492   Male          Rich  146.367050   53.697337  36.191937  14256.345655\n",
      "496   Male          Poor  192.882630   66.373266  46.090533  17057.235557\n",
      "497   Male        Middle  144.936101   55.880052  20.626579  21863.141419\n",
      "\n",
      "[249 rows x 6 columns]\n"
     ]
    }
   ],
   "source": [
    "#And now we can make the agruppations\n",
    "grouped_gender = data.groupby(\"Gender\")\n",
    "\n",
    "for names,groups in grouped_gender:\n",
    "    print(names)\n",
    "    print(groups)\n",
    "#Where the groupby method is going to agrupate the data between Female and Male (names), and each of those names have values (groups)"
   ]
  },
  {
   "cell_type": "code",
   "execution_count": null,
   "id": "pressing-stanford",
   "metadata": {},
   "outputs": [],
   "source": [
    "#We can make a double agrupations\n",
    "double_grouped = data.groupby([\"Gender\", \"Income Status\"])\n",
    "\n",
    "for names, groups in double_grouped:\n",
    "    print"
   ]
  }
 ],
 "metadata": {
  "kernelspec": {
   "display_name": "Python 3",
   "language": "python",
   "name": "python3"
  },
  "language_info": {
   "codemirror_mode": {
    "name": "ipython",
    "version": 3
   },
   "file_extension": ".py",
   "mimetype": "text/x-python",
   "name": "python",
   "nbconvert_exporter": "python",
   "pygments_lexer": "ipython3",
   "version": "3.8.5"
  }
 },
 "nbformat": 4,
 "nbformat_minor": 5
}
