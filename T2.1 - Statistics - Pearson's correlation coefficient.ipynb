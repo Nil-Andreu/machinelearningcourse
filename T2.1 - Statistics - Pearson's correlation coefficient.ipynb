{
 "cells": [
  {
   "cell_type": "markdown",
   "id": "innocent-subcommittee",
   "metadata": {},
   "source": [
    "## Pearson's correlation coefficient"
   ]
  },
  {
   "cell_type": "markdown",
   "id": "sorted-universe",
   "metadata": {},
   "source": [
    "The **pearson's correlation coefficient** measures the degree of dependency that a two variables has. The variables usually are:\n",
    "* The x variable, which is the independent variable (we will see deeply in the linear regression topic)\n",
    "* The y variable, which we want to test if it is dependent of x\n",
    "\n",
    "How is computed?\n",
    "We will use the following formula:"
   ]
  },
  {
   "cell_type": "code",
   "execution_count": null,
   "id": "bottom-accessory",
   "metadata": {},
   "outputs": [],
   "source": [
    "from IPython import Image #This library is used to be able to print images in the notebook\n",
    "Image(\"\")"
   ]
  }
 ],
 "metadata": {
  "kernelspec": {
   "display_name": "Python 3",
   "language": "python",
   "name": "python3"
  },
  "language_info": {
   "codemirror_mode": {
    "name": "ipython",
    "version": 3
   },
   "file_extension": ".py",
   "mimetype": "text/x-python",
   "name": "python",
   "nbconvert_exporter": "python",
   "pygments_lexer": "ipython3",
   "version": "3.8.5"
  }
 },
 "nbformat": 4,
 "nbformat_minor": 5
}
